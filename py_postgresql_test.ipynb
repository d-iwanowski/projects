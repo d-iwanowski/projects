{
 "cells": [
  {
   "cell_type": "code",
   "execution_count": 1,
   "id": "896bd253-216a-4b9f-9a90-5e35c2f4e0e1",
   "metadata": {},
   "outputs": [],
   "source": [
    "import pandas as pd\n",
    "import psycopg2\n",
    "from configparser import ConfigParser"
   ]
  },
  {
   "cell_type": "code",
   "execution_count": 2,
   "id": "a4d22fe1-44a7-439c-885d-181e327e57b4",
   "metadata": {},
   "outputs": [
    {
     "name": "stdout",
     "output_type": "stream",
     "text": [
      "(1, 'Penelope', 'Guiness', datetime.datetime(2013, 5, 26, 14, 47, 57, 620000))\n"
     ]
    }
   ],
   "source": [
    "config_file_name = 'config.ini'\n",
    "config_section = 'postgresql'\n",
    "\n",
    "parser = ConfigParser() # create a parser\n",
    "parser.read(config_file_name) # read config file\n",
    "\n",
    "# get section, default to postgresql\n",
    "db = {}\n",
    "if parser.has_section(config_section):\n",
    "    params = parser.items(config_section)\n",
    "    for param in params:\n",
    "        db[param[0]] = param[1]\n",
    "\n",
    "with psycopg2.connect(**db) as conn:\n",
    "    with conn.cursor() as cur:\n",
    "        cur.execute(\"select * from actor;\")\n",
    "        print(cur.fetchone())      "
   ]
  },
  {
   "cell_type": "code",
   "execution_count": 3,
   "id": "fcec3ad9-0314-43ad-8e47-1f9403bf17cc",
   "metadata": {},
   "outputs": [],
   "source": [
    "with psycopg2.connect(**db) as conn:\n",
    "    with conn.cursor() as cur:\n",
    "        cur.execute(\"select * from actor;\")\n",
    "        df_actor = cur.fetchall()"
   ]
  },
  {
   "cell_type": "code",
   "execution_count": 18,
   "id": "efaa572f-eb3f-4663-bacb-08c9dbd6dd30",
   "metadata": {},
   "outputs": [],
   "source": [
    "with psycopg2.connect(**db) as conn:\n",
    "    df_actor = pd.read_sql(\"select * from actor;\", con=conn)\n",
    "    df_film = pd.read_sql(\"select * from film;\", con=conn)\n",
    "    df_film_actor = pd.read_sql(\"select * from film_actor;\", con=conn)"
   ]
  },
  {
   "cell_type": "code",
   "execution_count": 23,
   "id": "18e475d0-602f-4a16-a1bd-c95036a0bf8d",
   "metadata": {},
   "outputs": [
    {
     "name": "stdout",
     "output_type": "stream",
     "text": [
      "<class 'pandas.core.frame.DataFrame'>\n",
      "RangeIndex: 200 entries, 0 to 199\n",
      "Data columns (total 4 columns):\n",
      " #   Column       Non-Null Count  Dtype         \n",
      "---  ------       --------------  -----         \n",
      " 0   actor_id     200 non-null    int64         \n",
      " 1   first_name   200 non-null    object        \n",
      " 2   last_name    200 non-null    object        \n",
      " 3   last_update  200 non-null    datetime64[ns]\n",
      "dtypes: datetime64[ns](1), int64(1), object(2)\n",
      "memory usage: 6.4+ KB\n"
     ]
    }
   ],
   "source": [
    "df_actor.info()"
   ]
  },
  {
   "cell_type": "code",
   "execution_count": 22,
   "id": "f8c21a28-bc8f-4bc6-82d5-92ed6e84fafd",
   "metadata": {},
   "outputs": [
    {
     "name": "stdout",
     "output_type": "stream",
     "text": [
      "<class 'pandas.core.frame.DataFrame'>\n",
      "RangeIndex: 1000 entries, 0 to 999\n",
      "Data columns (total 13 columns):\n",
      " #   Column            Non-Null Count  Dtype         \n",
      "---  ------            --------------  -----         \n",
      " 0   film_id           1000 non-null   int64         \n",
      " 1   title             1000 non-null   object        \n",
      " 2   description       1000 non-null   object        \n",
      " 3   release_year      1000 non-null   int64         \n",
      " 4   language_id       1000 non-null   int64         \n",
      " 5   rental_duration   1000 non-null   int64         \n",
      " 6   rental_rate       1000 non-null   float64       \n",
      " 7   length            1000 non-null   int64         \n",
      " 8   replacement_cost  1000 non-null   float64       \n",
      " 9   rating            1000 non-null   object        \n",
      " 10  last_update       1000 non-null   datetime64[ns]\n",
      " 11  special_features  1000 non-null   object        \n",
      " 12  fulltext          1000 non-null   object        \n",
      "dtypes: datetime64[ns](1), float64(2), int64(5), object(5)\n",
      "memory usage: 101.7+ KB\n"
     ]
    }
   ],
   "source": [
    "df_film.info()"
   ]
  },
  {
   "cell_type": "code",
   "execution_count": 38,
   "id": "ba277d9a-d08e-4995-acfe-ac581b2aaa01",
   "metadata": {},
   "outputs": [
    {
     "name": "stdout",
     "output_type": "stream",
     "text": [
      "title\n",
      "Chamber Italian     1\n",
      "Perdition Fargo     1\n",
      "Paris Weekend       1\n",
      "Park Citizen        1\n",
      "Party Knock         1\n",
      "                   ..\n",
      "Frisco Forrest      1\n",
      "Frogmen Breaking    1\n",
      "Frontier Cabin      1\n",
      "Frost Head          1\n",
      "Zorro Ark           1\n",
      "Name: title, Length: 1000, dtype: int64\n",
      "\n",
      "description\n",
      "A Fateful Reflection of a Moose And a Husband who must Overcome a Monkey in Nigeria                                1\n",
      "A Fast-Paced Story of a Car And a Cat who must Outgun a Hunter in Berlin                                           1\n",
      "A Intrepid Story of a Squirrel And a Crocodile who must Defeat a Monkey in The Outback                             1\n",
      "A Taut Epistle of a Sumo Wrestler And a Girl who must Face a Husband in Ancient Japan                              1\n",
      "A Fateful Display of a Technical Writer And a Butler who must Battle a Sumo Wrestler in An Abandoned Mine Shaft    1\n",
      "                                                                                                                  ..\n",
      "A Beautiful Documentary of a Woman And a Pioneer who must Pursue a Mad Scientist in A Shark Tank                   1\n",
      "A Unbelieveable Yarn of a Mad Scientist And a Cat who must Chase a Lumberjack in Australia                         1\n",
      "A Emotional Story of a Madman And a Waitress who must Battle a Teacher in An Abandoned Fun House                   1\n",
      "A Amazing Reflection of a Lumberjack And a Cat who must Discover a Husband in A MySQL Convention                   1\n",
      "A Intrepid Panorama of a Mad Scientist And a Boy who must Redeem a Boy in A Monastery                              1\n",
      "Name: description, Length: 1000, dtype: int64\n",
      "\n",
      "rating\n",
      "PG-13    223\n",
      "NC-17    210\n",
      "R        195\n",
      "PG       194\n",
      "G        178\n",
      "Name: rating, dtype: int64\n",
      "\n",
      "special_features\n",
      "[Trailers, Commentaries, Behind the Scenes]                    79\n",
      "[Trailers]                                                     72\n",
      "[Trailers, Commentaries]                                       72\n",
      "[Trailers, Behind the Scenes]                                  72\n",
      "[Deleted Scenes, Behind the Scenes]                            71\n",
      "[Behind the Scenes]                                            70\n",
      "[Commentaries, Behind the Scenes]                              70\n",
      "[Trailers, Deleted Scenes]                                     66\n",
      "[Commentaries, Deleted Scenes, Behind the Scenes]              66\n",
      "[Commentaries, Deleted Scenes]                                 65\n",
      "[Trailers, Commentaries, Deleted Scenes]                       64\n",
      "[Commentaries]                                                 62\n",
      "[Deleted Scenes]                                               61\n",
      "[Trailers, Commentaries, Deleted Scenes, Behind the Scenes]    61\n",
      "[Trailers, Deleted Scenes, Behind the Scenes]                  49\n",
      "Name: special_features, dtype: int64\n",
      "\n",
      "fulltext\n",
      "'chamber':1 'fate':4 'husband':11 'italian':2 'monkey':16 'moos':8 'must':13 'nigeria':18 'overcom':14 'reflect':5                                            1\n",
      "'berlin':20 'car':10 'cat':13 'fargo':2 'fast':5 'fast-pac':4 'hunter':18 'must':15 'outgun':16 'pace':6 'perdit':1 'stori':7                                 1\n",
      "'crocodil':11 'defeat':14 'intrepid':4 'monkey':16 'must':13 'outback':19 'pari':1 'squirrel':8 'stori':5 'weekend':2                                         1\n",
      "'ancient':19 'citizen':2 'epistl':5 'face':15 'girl':12 'husband':17 'japan':20 'must':14 'park':1 'sumo':8 'taut':4 'wrestler':9                             1\n",
      "'abandon':21 'battl':15 'butler':12 'display':5 'fate':4 'knock':2 'mine':22 'must':14 'parti':1 'shaft':23 'sumo':17 'technic':8 'wrestler':18 'writer':9    1\n",
      "                                                                                                                                                             ..\n",
      "'beauti':4 'documentari':5 'forrest':2 'frisco':1 'mad':16 'must':13 'pioneer':11 'pursu':14 'scientist':17 'shark':20 'tank':21 'woman':8                    1\n",
      "'australia':19 'break':2 'cat':12 'chase':15 'frogmen':1 'lumberjack':17 'mad':8 'must':14 'scientist':9 'unbeliev':4 'yarn':5                                1\n",
      "'abandon':19 'battl':14 'cabin':2 'emot':4 'frontier':1 'fun':20 'hous':21 'madman':8 'must':13 'stori':5 'teacher':16 'waitress':11                          1\n",
      "'amaz':4 'cat':11 'convent':20 'discov':14 'frost':1 'head':2 'husband':16 'lumberjack':8 'must':13 'mysql':19 'reflect':5                                    1\n",
      "'ark':2 'boy':12,17 'intrepid':4 'mad':8 'monasteri':20 'must':14 'panorama':5 'redeem':15 'scientist':9 'zorro':1                                            1\n",
      "Name: fulltext, Length: 1000, dtype: int64\n",
      "\n"
     ]
    }
   ],
   "source": [
    "for col in df_film.columns:\n",
    "    if df_film[col].dtype == 'O':\n",
    "        print(col)\n",
    "        print(df_film[col].value_counts())\n",
    "        print()"
   ]
  },
  {
   "cell_type": "code",
   "execution_count": 27,
   "id": "1d9952b2-da4d-4539-a6c4-dd2577d08693",
   "metadata": {},
   "outputs": [
    {
     "data": {
      "text/plain": [
       "'title'"
      ]
     },
     "execution_count": 27,
     "metadata": {},
     "output_type": "execute_result"
    }
   ],
   "source": [
    "df_film.columns[1]"
   ]
  },
  {
   "cell_type": "code",
   "execution_count": 35,
   "id": "edf819c4-6d26-427a-9f69-554c292e4f66",
   "metadata": {},
   "outputs": [],
   "source": []
  },
  {
   "cell_type": "code",
   "execution_count": 24,
   "id": "6d2b664b-5332-4b70-9ad3-f2d641c06c73",
   "metadata": {},
   "outputs": [
    {
     "name": "stdout",
     "output_type": "stream",
     "text": [
      "<class 'pandas.core.frame.DataFrame'>\n",
      "RangeIndex: 5462 entries, 0 to 5461\n",
      "Data columns (total 3 columns):\n",
      " #   Column       Non-Null Count  Dtype         \n",
      "---  ------       --------------  -----         \n",
      " 0   actor_id     5462 non-null   int64         \n",
      " 1   film_id      5462 non-null   int64         \n",
      " 2   last_update  5462 non-null   datetime64[ns]\n",
      "dtypes: datetime64[ns](1), int64(2)\n",
      "memory usage: 128.1 KB\n"
     ]
    }
   ],
   "source": [
    "df_film_actor.info()"
   ]
  }
 ],
 "metadata": {
  "kernelspec": {
   "display_name": "jupvenv",
   "language": "python",
   "name": "jupvenv"
  },
  "language_info": {
   "codemirror_mode": {
    "name": "ipython",
    "version": 3
   },
   "file_extension": ".py",
   "mimetype": "text/x-python",
   "name": "python",
   "nbconvert_exporter": "python",
   "pygments_lexer": "ipython3",
   "version": "3.8.10"
  }
 },
 "nbformat": 4,
 "nbformat_minor": 5
}
