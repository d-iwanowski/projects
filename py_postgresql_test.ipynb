{
 "cells": [
  {
   "cell_type": "code",
   "execution_count": 5,
   "id": "896bd253-216a-4b9f-9a90-5e35c2f4e0e1",
   "metadata": {},
   "outputs": [],
   "source": [
    "import pandas as pd\n",
    "import psycopg2\n",
    "from configparser import ConfigParser"
   ]
  },
  {
   "cell_type": "code",
   "execution_count": 8,
   "id": "a4d22fe1-44a7-439c-885d-181e327e57b4",
   "metadata": {},
   "outputs": [
    {
     "name": "stdout",
     "output_type": "stream",
     "text": [
      "(1, 'Penelope', 'Guiness', datetime.datetime(2013, 5, 26, 14, 47, 57, 620000))\n"
     ]
    }
   ],
   "source": [
    "config_file_name = 'database.ini'\n",
    "config_section = 'postgresql'\n",
    "\n",
    "parser = ConfigParser() # create a parser\n",
    "parser.read(config_file_name) # read config file\n",
    "\n",
    "# get section, default to postgresql\n",
    "db = {}\n",
    "if parser.has_section(config_section):\n",
    "    params = parser.items(config_section)\n",
    "    for param in params:\n",
    "        db[param[0]] = param[1]\n",
    "\n",
    "with psycopg2.connect(**db) as conn:\n",
    "    with conn.cursor() as cur:\n",
    "        cur.execute(\"select * from actor;\")\n",
    "        print(cur.fetchone())      "
   ]
  }
 ],
 "metadata": {
  "kernelspec": {
   "display_name": "jupvenv",
   "language": "python",
   "name": "jupvenv"
  },
  "language_info": {
   "codemirror_mode": {
    "name": "ipython",
    "version": 3
   },
   "file_extension": ".py",
   "mimetype": "text/x-python",
   "name": "python",
   "nbconvert_exporter": "python",
   "pygments_lexer": "ipython3",
   "version": "3.8.10"
  }
 },
 "nbformat": 4,
 "nbformat_minor": 5
}
